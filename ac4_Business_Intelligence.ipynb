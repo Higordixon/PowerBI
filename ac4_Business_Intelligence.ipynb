{
  "cells": [
    {
      "cell_type": "markdown",
      "source": [
        "# Em grupos (de preferência da AC02)"
      ],
      "metadata": {
        "id": "suPOxNbqsytY"
      }
    },
    {
      "cell_type": "markdown",
      "source": [
        "Fazer a carga em arquivo parquet das dimensões Bolsa e Curso em arquivos chamados d_bolsa.parquet e d_curso.parquet\n",
        "\n"
      ],
      "metadata": {
        "id": "uEsoWbR9s2eI"
      }
    },
    {
      "cell_type": "code",
      "source": [
        "import pandas as pd"
      ],
      "metadata": {
        "id": "AaJP5nmTf0pQ"
      },
      "execution_count": null,
      "outputs": []
    },
    {
      "cell_type": "markdown",
      "source": [
        "# Bolsa"
      ],
      "metadata": {
        "id": "7HdXvlGigjUY"
      }
    },
    {
      "cell_type": "code",
      "source": [
        "df = pd.read_csv('pda-prouni-2019-sample.csv', sep=';')"
      ],
      "metadata": {
        "id": "zLyoAagZf5eb"
      },
      "execution_count": null,
      "outputs": []
    },
    {
      "cell_type": "code",
      "source": [
        "d_bolsa = df[['TIPO_BOLSA']]"
      ],
      "metadata": {
        "id": "eoKNLbnif8h0"
      },
      "execution_count": null,
      "outputs": []
    },
    {
      "cell_type": "code",
      "source": [
        "d_bolsa = d_bolsa.replace({'BOLSA INTEGRAL' : 'Bolsa Integral', 'BOLSA PARCIAL 50%' : 'Bolsa Parcial'})"
      ],
      "metadata": {
        "id": "baOfzwrmf-SF"
      },
      "execution_count": null,
      "outputs": []
    },
    {
      "cell_type": "code",
      "source": [
        "Var1 = {'TIPO_BOLSA' : 'TipoBolsa'}"
      ],
      "metadata": {
        "id": "LkVqU7FCgAAm"
      },
      "execution_count": null,
      "outputs": []
    },
    {
      "cell_type": "code",
      "source": [
        "d_bolsa = d_bolsa.rename(Var1, axis = 1)"
      ],
      "metadata": {
        "id": "t3M2BvdLgH3a"
      },
      "execution_count": null,
      "outputs": []
    },
    {
      "cell_type": "code",
      "source": [
        "d_bolsa = d_bolsa.drop_duplicates().reset_index()"
      ],
      "metadata": {
        "id": "zGVlRZ0YgJR6"
      },
      "execution_count": null,
      "outputs": []
    },
    {
      "cell_type": "code",
      "source": [
        "d_bolsa = d_bolsa.rename({'index':'SkBolsa'}, axis=1)"
      ],
      "metadata": {
        "id": "nX71oGfbgL3U"
      },
      "execution_count": null,
      "outputs": []
    },
    {
      "cell_type": "code",
      "source": [
        "d_bolsa.insert(2,\"PorcentagemBolsa\",['100%','50%'],True)"
      ],
      "metadata": {
        "id": "q-fBOeQ3gOJ3"
      },
      "execution_count": null,
      "outputs": []
    },
    {
      "cell_type": "code",
      "source": [
        "d_bolsa"
      ],
      "metadata": {
        "id": "xuUsGUiOgPh3",
        "outputId": "5391af94-6841-41cd-c391-c3f532f0615e",
        "colab": {
          "base_uri": "https://localhost:8080/",
          "height": 112
        }
      },
      "execution_count": null,
      "outputs": [
        {
          "output_type": "execute_result",
          "data": {
            "text/plain": [
              "   SkBolsa       TipoBolsa PorcentagemBolsa\n",
              "0        0  Bolsa Integral             100%\n",
              "1        3   Bolsa Parcial              50%"
            ],
            "text/html": [
              "\n",
              "  <div id=\"df-fd816bc5-1aa6-4b82-9d71-38e152c6d494\">\n",
              "    <div class=\"colab-df-container\">\n",
              "      <div>\n",
              "<style scoped>\n",
              "    .dataframe tbody tr th:only-of-type {\n",
              "        vertical-align: middle;\n",
              "    }\n",
              "\n",
              "    .dataframe tbody tr th {\n",
              "        vertical-align: top;\n",
              "    }\n",
              "\n",
              "    .dataframe thead th {\n",
              "        text-align: right;\n",
              "    }\n",
              "</style>\n",
              "<table border=\"1\" class=\"dataframe\">\n",
              "  <thead>\n",
              "    <tr style=\"text-align: right;\">\n",
              "      <th></th>\n",
              "      <th>SkBolsa</th>\n",
              "      <th>TipoBolsa</th>\n",
              "      <th>PorcentagemBolsa</th>\n",
              "    </tr>\n",
              "  </thead>\n",
              "  <tbody>\n",
              "    <tr>\n",
              "      <th>0</th>\n",
              "      <td>0</td>\n",
              "      <td>Bolsa Integral</td>\n",
              "      <td>100%</td>\n",
              "    </tr>\n",
              "    <tr>\n",
              "      <th>1</th>\n",
              "      <td>3</td>\n",
              "      <td>Bolsa Parcial</td>\n",
              "      <td>50%</td>\n",
              "    </tr>\n",
              "  </tbody>\n",
              "</table>\n",
              "</div>\n",
              "      <button class=\"colab-df-convert\" onclick=\"convertToInteractive('df-fd816bc5-1aa6-4b82-9d71-38e152c6d494')\"\n",
              "              title=\"Convert this dataframe to an interactive table.\"\n",
              "              style=\"display:none;\">\n",
              "        \n",
              "  <svg xmlns=\"http://www.w3.org/2000/svg\" height=\"24px\"viewBox=\"0 0 24 24\"\n",
              "       width=\"24px\">\n",
              "    <path d=\"M0 0h24v24H0V0z\" fill=\"none\"/>\n",
              "    <path d=\"M18.56 5.44l.94 2.06.94-2.06 2.06-.94-2.06-.94-.94-2.06-.94 2.06-2.06.94zm-11 1L8.5 8.5l.94-2.06 2.06-.94-2.06-.94L8.5 2.5l-.94 2.06-2.06.94zm10 10l.94 2.06.94-2.06 2.06-.94-2.06-.94-.94-2.06-.94 2.06-2.06.94z\"/><path d=\"M17.41 7.96l-1.37-1.37c-.4-.4-.92-.59-1.43-.59-.52 0-1.04.2-1.43.59L10.3 9.45l-7.72 7.72c-.78.78-.78 2.05 0 2.83L4 21.41c.39.39.9.59 1.41.59.51 0 1.02-.2 1.41-.59l7.78-7.78 2.81-2.81c.8-.78.8-2.07 0-2.86zM5.41 20L4 18.59l7.72-7.72 1.47 1.35L5.41 20z\"/>\n",
              "  </svg>\n",
              "      </button>\n",
              "      \n",
              "  <style>\n",
              "    .colab-df-container {\n",
              "      display:flex;\n",
              "      flex-wrap:wrap;\n",
              "      gap: 12px;\n",
              "    }\n",
              "\n",
              "    .colab-df-convert {\n",
              "      background-color: #E8F0FE;\n",
              "      border: none;\n",
              "      border-radius: 50%;\n",
              "      cursor: pointer;\n",
              "      display: none;\n",
              "      fill: #1967D2;\n",
              "      height: 32px;\n",
              "      padding: 0 0 0 0;\n",
              "      width: 32px;\n",
              "    }\n",
              "\n",
              "    .colab-df-convert:hover {\n",
              "      background-color: #E2EBFA;\n",
              "      box-shadow: 0px 1px 2px rgba(60, 64, 67, 0.3), 0px 1px 3px 1px rgba(60, 64, 67, 0.15);\n",
              "      fill: #174EA6;\n",
              "    }\n",
              "\n",
              "    [theme=dark] .colab-df-convert {\n",
              "      background-color: #3B4455;\n",
              "      fill: #D2E3FC;\n",
              "    }\n",
              "\n",
              "    [theme=dark] .colab-df-convert:hover {\n",
              "      background-color: #434B5C;\n",
              "      box-shadow: 0px 1px 3px 1px rgba(0, 0, 0, 0.15);\n",
              "      filter: drop-shadow(0px 1px 2px rgba(0, 0, 0, 0.3));\n",
              "      fill: #FFFFFF;\n",
              "    }\n",
              "  </style>\n",
              "\n",
              "      <script>\n",
              "        const buttonEl =\n",
              "          document.querySelector('#df-fd816bc5-1aa6-4b82-9d71-38e152c6d494 button.colab-df-convert');\n",
              "        buttonEl.style.display =\n",
              "          google.colab.kernel.accessAllowed ? 'block' : 'none';\n",
              "\n",
              "        async function convertToInteractive(key) {\n",
              "          const element = document.querySelector('#df-fd816bc5-1aa6-4b82-9d71-38e152c6d494');\n",
              "          const dataTable =\n",
              "            await google.colab.kernel.invokeFunction('convertToInteractive',\n",
              "                                                     [key], {});\n",
              "          if (!dataTable) return;\n",
              "\n",
              "          const docLinkHtml = 'Like what you see? Visit the ' +\n",
              "            '<a target=\"_blank\" href=https://colab.research.google.com/notebooks/data_table.ipynb>data table notebook</a>'\n",
              "            + ' to learn more about interactive tables.';\n",
              "          element.innerHTML = '';\n",
              "          dataTable['output_type'] = 'display_data';\n",
              "          await google.colab.output.renderOutput(dataTable, element);\n",
              "          const docLink = document.createElement('div');\n",
              "          docLink.innerHTML = docLinkHtml;\n",
              "          element.appendChild(docLink);\n",
              "        }\n",
              "      </script>\n",
              "    </div>\n",
              "  </div>\n",
              "  "
            ]
          },
          "metadata": {},
          "execution_count": 10
        }
      ]
    },
    {
      "cell_type": "code",
      "source": [
        "d_bolsa.to_parquet('d_bolsa.parquet')"
      ],
      "metadata": {
        "id": "k552pfbGhGuq"
      },
      "execution_count": null,
      "outputs": []
    },
    {
      "cell_type": "markdown",
      "source": [
        "# Curso"
      ],
      "metadata": {
        "id": "E2YVq_cLglCo"
      }
    },
    {
      "cell_type": "code",
      "source": [
        "d_curso = df[['MODALIDADE_ENSINO_BOLSA', 'NOME_CURSO_BOLSA', 'NOME_TURNO_CURSO_BOLSA']]"
      ],
      "metadata": {
        "id": "5yah_u9MgnvS"
      },
      "execution_count": null,
      "outputs": []
    },
    {
      "cell_type": "code",
      "source": [
        "renomear = {'MODALIDADE_ENSINO_BOLSA' : 'ModalidadeEnsino', 'NOME_CURSO_BOLSA' : 'NomeCurso', 'NOME_TURNO_CURSO_BOLSA' : 'Periodo'}"
      ],
      "metadata": {
        "id": "1xDLquMLgrIk"
      },
      "execution_count": null,
      "outputs": []
    },
    {
      "cell_type": "code",
      "source": [
        "d_curso = d_curso.rename(renomear, axis = 1)"
      ],
      "metadata": {
        "id": "IAjmIrmOgshO"
      },
      "execution_count": null,
      "outputs": []
    },
    {
      "cell_type": "code",
      "source": [
        "d_curso = d_curso.drop_duplicates().reset_index()"
      ],
      "metadata": {
        "id": "R5c2b4WGgtkm"
      },
      "execution_count": null,
      "outputs": []
    },
    {
      "cell_type": "code",
      "source": [
        "d_curso = d_curso.rename({'index': 'SkCurso'}, axis=1)"
      ],
      "metadata": {
        "id": "j5RTY7ncgu6G"
      },
      "execution_count": null,
      "outputs": []
    },
    {
      "cell_type": "code",
      "source": [
        "d_curso"
      ],
      "metadata": {
        "id": "PrwTNWGIgwBu",
        "outputId": "2c0c1cdf-3cd2-4df2-a544-2c3c3fa54837",
        "colab": {
          "base_uri": "https://localhost:8080/",
          "height": 424
        }
      },
      "execution_count": null,
      "outputs": [
        {
          "output_type": "execute_result",
          "data": {
            "text/plain": [
              "     SkCurso ModalidadeEnsino  \\\n",
              "0          0       Presencial   \n",
              "1          1       Presencial   \n",
              "2          2              EAD   \n",
              "3          3       Presencial   \n",
              "4          4              EAD   \n",
              "..       ...              ...   \n",
              "978     9878       Presencial   \n",
              "979     9887       Presencial   \n",
              "980     9941       Presencial   \n",
              "981     9952       Presencial   \n",
              "982     9954       Presencial   \n",
              "\n",
              "                                             NomeCurso            Periodo  \n",
              "0     Comunicação Social Com Habilitação Em Jornalismo            Noturno  \n",
              "1                                              Direito           Matutino  \n",
              "2                                            Filosofia  Curso a distância  \n",
              "3                                      Educação Física           Matutino  \n",
              "4                Análise E Desenvolvimento De Sistemas  Curso a distância  \n",
              "..                                                 ...                ...  \n",
              "978                Comunicação Social - Cinema E Video            Noturno  \n",
              "979  Engenharia De Produção - Barra V - Terra Encan...            Noturno  \n",
              "980                                    Psicologia (Os)            Noturno  \n",
              "981       Engenharia Elétrica Com Ênfase Em Eletrônica            Noturno  \n",
              "982  Curso Superior De Tecnologia Em Gestão Financeira           Matutino  \n",
              "\n",
              "[983 rows x 4 columns]"
            ],
            "text/html": [
              "\n",
              "  <div id=\"df-d3497e22-5b67-4dd4-97c3-0c1376c0ccd2\">\n",
              "    <div class=\"colab-df-container\">\n",
              "      <div>\n",
              "<style scoped>\n",
              "    .dataframe tbody tr th:only-of-type {\n",
              "        vertical-align: middle;\n",
              "    }\n",
              "\n",
              "    .dataframe tbody tr th {\n",
              "        vertical-align: top;\n",
              "    }\n",
              "\n",
              "    .dataframe thead th {\n",
              "        text-align: right;\n",
              "    }\n",
              "</style>\n",
              "<table border=\"1\" class=\"dataframe\">\n",
              "  <thead>\n",
              "    <tr style=\"text-align: right;\">\n",
              "      <th></th>\n",
              "      <th>SkCurso</th>\n",
              "      <th>ModalidadeEnsino</th>\n",
              "      <th>NomeCurso</th>\n",
              "      <th>Periodo</th>\n",
              "    </tr>\n",
              "  </thead>\n",
              "  <tbody>\n",
              "    <tr>\n",
              "      <th>0</th>\n",
              "      <td>0</td>\n",
              "      <td>Presencial</td>\n",
              "      <td>Comunicação Social Com Habilitação Em Jornalismo</td>\n",
              "      <td>Noturno</td>\n",
              "    </tr>\n",
              "    <tr>\n",
              "      <th>1</th>\n",
              "      <td>1</td>\n",
              "      <td>Presencial</td>\n",
              "      <td>Direito</td>\n",
              "      <td>Matutino</td>\n",
              "    </tr>\n",
              "    <tr>\n",
              "      <th>2</th>\n",
              "      <td>2</td>\n",
              "      <td>EAD</td>\n",
              "      <td>Filosofia</td>\n",
              "      <td>Curso a distância</td>\n",
              "    </tr>\n",
              "    <tr>\n",
              "      <th>3</th>\n",
              "      <td>3</td>\n",
              "      <td>Presencial</td>\n",
              "      <td>Educação Física</td>\n",
              "      <td>Matutino</td>\n",
              "    </tr>\n",
              "    <tr>\n",
              "      <th>4</th>\n",
              "      <td>4</td>\n",
              "      <td>EAD</td>\n",
              "      <td>Análise E Desenvolvimento De Sistemas</td>\n",
              "      <td>Curso a distância</td>\n",
              "    </tr>\n",
              "    <tr>\n",
              "      <th>...</th>\n",
              "      <td>...</td>\n",
              "      <td>...</td>\n",
              "      <td>...</td>\n",
              "      <td>...</td>\n",
              "    </tr>\n",
              "    <tr>\n",
              "      <th>978</th>\n",
              "      <td>9878</td>\n",
              "      <td>Presencial</td>\n",
              "      <td>Comunicação Social - Cinema E Video</td>\n",
              "      <td>Noturno</td>\n",
              "    </tr>\n",
              "    <tr>\n",
              "      <th>979</th>\n",
              "      <td>9887</td>\n",
              "      <td>Presencial</td>\n",
              "      <td>Engenharia De Produção - Barra V - Terra Encan...</td>\n",
              "      <td>Noturno</td>\n",
              "    </tr>\n",
              "    <tr>\n",
              "      <th>980</th>\n",
              "      <td>9941</td>\n",
              "      <td>Presencial</td>\n",
              "      <td>Psicologia (Os)</td>\n",
              "      <td>Noturno</td>\n",
              "    </tr>\n",
              "    <tr>\n",
              "      <th>981</th>\n",
              "      <td>9952</td>\n",
              "      <td>Presencial</td>\n",
              "      <td>Engenharia Elétrica Com Ênfase Em Eletrônica</td>\n",
              "      <td>Noturno</td>\n",
              "    </tr>\n",
              "    <tr>\n",
              "      <th>982</th>\n",
              "      <td>9954</td>\n",
              "      <td>Presencial</td>\n",
              "      <td>Curso Superior De Tecnologia Em Gestão Financeira</td>\n",
              "      <td>Matutino</td>\n",
              "    </tr>\n",
              "  </tbody>\n",
              "</table>\n",
              "<p>983 rows × 4 columns</p>\n",
              "</div>\n",
              "      <button class=\"colab-df-convert\" onclick=\"convertToInteractive('df-d3497e22-5b67-4dd4-97c3-0c1376c0ccd2')\"\n",
              "              title=\"Convert this dataframe to an interactive table.\"\n",
              "              style=\"display:none;\">\n",
              "        \n",
              "  <svg xmlns=\"http://www.w3.org/2000/svg\" height=\"24px\"viewBox=\"0 0 24 24\"\n",
              "       width=\"24px\">\n",
              "    <path d=\"M0 0h24v24H0V0z\" fill=\"none\"/>\n",
              "    <path d=\"M18.56 5.44l.94 2.06.94-2.06 2.06-.94-2.06-.94-.94-2.06-.94 2.06-2.06.94zm-11 1L8.5 8.5l.94-2.06 2.06-.94-2.06-.94L8.5 2.5l-.94 2.06-2.06.94zm10 10l.94 2.06.94-2.06 2.06-.94-2.06-.94-.94-2.06-.94 2.06-2.06.94z\"/><path d=\"M17.41 7.96l-1.37-1.37c-.4-.4-.92-.59-1.43-.59-.52 0-1.04.2-1.43.59L10.3 9.45l-7.72 7.72c-.78.78-.78 2.05 0 2.83L4 21.41c.39.39.9.59 1.41.59.51 0 1.02-.2 1.41-.59l7.78-7.78 2.81-2.81c.8-.78.8-2.07 0-2.86zM5.41 20L4 18.59l7.72-7.72 1.47 1.35L5.41 20z\"/>\n",
              "  </svg>\n",
              "      </button>\n",
              "      \n",
              "  <style>\n",
              "    .colab-df-container {\n",
              "      display:flex;\n",
              "      flex-wrap:wrap;\n",
              "      gap: 12px;\n",
              "    }\n",
              "\n",
              "    .colab-df-convert {\n",
              "      background-color: #E8F0FE;\n",
              "      border: none;\n",
              "      border-radius: 50%;\n",
              "      cursor: pointer;\n",
              "      display: none;\n",
              "      fill: #1967D2;\n",
              "      height: 32px;\n",
              "      padding: 0 0 0 0;\n",
              "      width: 32px;\n",
              "    }\n",
              "\n",
              "    .colab-df-convert:hover {\n",
              "      background-color: #E2EBFA;\n",
              "      box-shadow: 0px 1px 2px rgba(60, 64, 67, 0.3), 0px 1px 3px 1px rgba(60, 64, 67, 0.15);\n",
              "      fill: #174EA6;\n",
              "    }\n",
              "\n",
              "    [theme=dark] .colab-df-convert {\n",
              "      background-color: #3B4455;\n",
              "      fill: #D2E3FC;\n",
              "    }\n",
              "\n",
              "    [theme=dark] .colab-df-convert:hover {\n",
              "      background-color: #434B5C;\n",
              "      box-shadow: 0px 1px 3px 1px rgba(0, 0, 0, 0.15);\n",
              "      filter: drop-shadow(0px 1px 2px rgba(0, 0, 0, 0.3));\n",
              "      fill: #FFFFFF;\n",
              "    }\n",
              "  </style>\n",
              "\n",
              "      <script>\n",
              "        const buttonEl =\n",
              "          document.querySelector('#df-d3497e22-5b67-4dd4-97c3-0c1376c0ccd2 button.colab-df-convert');\n",
              "        buttonEl.style.display =\n",
              "          google.colab.kernel.accessAllowed ? 'block' : 'none';\n",
              "\n",
              "        async function convertToInteractive(key) {\n",
              "          const element = document.querySelector('#df-d3497e22-5b67-4dd4-97c3-0c1376c0ccd2');\n",
              "          const dataTable =\n",
              "            await google.colab.kernel.invokeFunction('convertToInteractive',\n",
              "                                                     [key], {});\n",
              "          if (!dataTable) return;\n",
              "\n",
              "          const docLinkHtml = 'Like what you see? Visit the ' +\n",
              "            '<a target=\"_blank\" href=https://colab.research.google.com/notebooks/data_table.ipynb>data table notebook</a>'\n",
              "            + ' to learn more about interactive tables.';\n",
              "          element.innerHTML = '';\n",
              "          dataTable['output_type'] = 'display_data';\n",
              "          await google.colab.output.renderOutput(dataTable, element);\n",
              "          const docLink = document.createElement('div');\n",
              "          docLink.innerHTML = docLinkHtml;\n",
              "          element.appendChild(docLink);\n",
              "        }\n",
              "      </script>\n",
              "    </div>\n",
              "  </div>\n",
              "  "
            ]
          },
          "metadata": {},
          "execution_count": 17
        }
      ]
    },
    {
      "cell_type": "code",
      "source": [
        "d_curso.to_parquet('d_curso.parquet')"
      ],
      "metadata": {
        "id": "h-XveIw0hlSg"
      },
      "execution_count": null,
      "outputs": []
    }
  ],
  "metadata": {
    "colab": {
      "collapsed_sections": [],
      "name": "ac4_Business_Intelligence (2).ipynb",
      "provenance": []
    },
    "kernelspec": {
      "display_name": "Python 3",
      "name": "python3"
    }
  },
  "nbformat": 4,
  "nbformat_minor": 0
}